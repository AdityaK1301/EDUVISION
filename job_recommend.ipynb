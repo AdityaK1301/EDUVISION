{
 "cells": [
  {
   "cell_type": "code",
   "execution_count": 2,
   "metadata": {
    "id": "tHXxJGOUJUZC"
   },
   "outputs": [],
   "source": [
    "import pandas as pd\n",
    "df = pd.read_csv('linkedin_title_skills.csv')\n",
    "first_10k = df.head(10000)\n",
    "first_10k.to_csv('linkedin_title_skills.csv', index=False)"
   ]
  },
  {
   "cell_type": "code",
   "execution_count": 3,
   "metadata": {
    "id": "dhGqF9n6LkFE"
   },
   "outputs": [],
   "source": [
    "df=pd.read_csv('linkedin_title_skills.csv')"
   ]
  },
  {
   "cell_type": "code",
   "execution_count": 4,
   "metadata": {
    "colab": {
     "base_uri": "https://localhost:8080/"
    },
    "id": "PxIwLxLlcI_j",
    "outputId": "dae39244-413c-44d6-b670-0c0c85a17853"
   },
   "outputs": [
    {
     "data": {
      "text/plain": [
       "(10000, 2)"
      ]
     },
     "execution_count": 4,
     "metadata": {},
     "output_type": "execute_result"
    }
   ],
   "source": [
    "df.shape"
   ]
  },
  {
   "cell_type": "code",
   "execution_count": 5,
   "metadata": {
    "id": "REKKthNeMIWS"
   },
   "outputs": [],
   "source": [
    "from sklearn.feature_extraction.text import TfidfVectorizer\n",
    "from sklearn.metrics.pairwise import cosine_similarity"
   ]
  },
  {
   "cell_type": "code",
   "execution_count": 6,
   "metadata": {
    "id": "fnWi_wXeNARy"
   },
   "outputs": [],
   "source": [
    "df['skills_text'] = df['job_skills'].fillna('').str.replace(',', ' ')\n",
    "\n",
    "# Fit TF‑IDF on job skills\n",
    "vectorizer = TfidfVectorizer()\n",
    "tfidf_matrix = vectorizer.fit_transform(df['skills_text'])\n",
    "\n",
    "# Recommendation function\n",
    "def recommend_jobs(skills, top_n=5):\n",
    "    skills_str = ' '.join(skills)\n",
    "    skills_vec = vectorizer.transform([skills_str])\n",
    "    scores = cosine_similarity(skills_vec, tfidf_matrix)[0]\n",
    "    idx = scores.argsort()[::-1][:top_n]\n",
    "    return pd.DataFrame({\n",
    "        'job_title': df['job_title'].iloc[idx].values,\n",
    "        'similarity_score': scores[idx]\n",
    "    })\n",
    "\n",
    "# Example skill sets\n",
    "sample1 = [\"Python\",\"Data Analysis\",\"Machine Learning\"]\n",
    "sample2 = [\"Graphic Design\",\"Photoshop\",\"Illustrator\"]\n",
    "\n",
    "rec1 = recommend_jobs(sample1)\n",
    "rec2 = recommend_jobs(sample2)\n"
   ]
  },
  {
   "cell_type": "code",
   "execution_count": 7,
   "metadata": {
    "colab": {
     "base_uri": "https://localhost:8080/",
     "height": 206
    },
    "id": "poegl5LANdq_",
    "outputId": "0abe3738-0b3b-4d91-c16f-81e52fff46cf"
   },
   "outputs": [
    {
     "data": {
      "application/vnd.google.colaboratory.intrinsic+json": {
       "summary": "{\n  \"name\": \"rec1\",\n  \"rows\": 5,\n  \"fields\": [\n    {\n      \"column\": \"job_title\",\n      \"properties\": {\n        \"dtype\": \"string\",\n        \"num_unique_values\": 5,\n        \"samples\": [\n          \"Senior Analyst / Analyst (Bangkok Based, relocation provided)\",\n          \"Supply Analytics Senior Manager (Bangkok-based role)\",\n          \"Senior Machine Learning Engineer - AI\"\n        ],\n        \"semantic_type\": \"\",\n        \"description\": \"\"\n      }\n    },\n    {\n      \"column\": \"similarity_score\",\n      \"properties\": {\n        \"dtype\": \"number\",\n        \"std\": 0.02683031331114404,\n        \"min\": 0.36616602442240836,\n        \"max\": 0.42111464115668923,\n        \"num_unique_values\": 5,\n        \"samples\": [\n          0.4203728564759035,\n          0.36616602442240836,\n          0.40258334013366487\n        ],\n        \"semantic_type\": \"\",\n        \"description\": \"\"\n      }\n    }\n  ]\n}",
       "type": "dataframe",
       "variable_name": "rec1"
      },
      "text/html": [
       "\n",
       "  <div id=\"df-a62b4bc6-eb3d-4721-9a0d-ec3f88c745a8\" class=\"colab-df-container\">\n",
       "    <div>\n",
       "<style scoped>\n",
       "    .dataframe tbody tr th:only-of-type {\n",
       "        vertical-align: middle;\n",
       "    }\n",
       "\n",
       "    .dataframe tbody tr th {\n",
       "        vertical-align: top;\n",
       "    }\n",
       "\n",
       "    .dataframe thead th {\n",
       "        text-align: right;\n",
       "    }\n",
       "</style>\n",
       "<table border=\"1\" class=\"dataframe\">\n",
       "  <thead>\n",
       "    <tr style=\"text-align: right;\">\n",
       "      <th></th>\n",
       "      <th>job_title</th>\n",
       "      <th>similarity_score</th>\n",
       "    </tr>\n",
       "  </thead>\n",
       "  <tbody>\n",
       "    <tr>\n",
       "      <th>0</th>\n",
       "      <td>Research Analyst</td>\n",
       "      <td>0.421115</td>\n",
       "    </tr>\n",
       "    <tr>\n",
       "      <th>1</th>\n",
       "      <td>Senior Analyst / Analyst (Bangkok Based, reloc...</td>\n",
       "      <td>0.420373</td>\n",
       "    </tr>\n",
       "    <tr>\n",
       "      <th>2</th>\n",
       "      <td>Senior Machine Learning Engineer - AI</td>\n",
       "      <td>0.402583</td>\n",
       "    </tr>\n",
       "    <tr>\n",
       "      <th>3</th>\n",
       "      <td>Consultant, Business Insights (Small CL Automa...</td>\n",
       "      <td>0.369142</td>\n",
       "    </tr>\n",
       "    <tr>\n",
       "      <th>4</th>\n",
       "      <td>Supply Analytics Senior Manager (Bangkok-based...</td>\n",
       "      <td>0.366166</td>\n",
       "    </tr>\n",
       "  </tbody>\n",
       "</table>\n",
       "</div>\n",
       "    <div class=\"colab-df-buttons\">\n",
       "\n",
       "  <div class=\"colab-df-container\">\n",
       "    <button class=\"colab-df-convert\" onclick=\"convertToInteractive('df-a62b4bc6-eb3d-4721-9a0d-ec3f88c745a8')\"\n",
       "            title=\"Convert this dataframe to an interactive table.\"\n",
       "            style=\"display:none;\">\n",
       "\n",
       "  <svg xmlns=\"http://www.w3.org/2000/svg\" height=\"24px\" viewBox=\"0 -960 960 960\">\n",
       "    <path d=\"M120-120v-720h720v720H120Zm60-500h600v-160H180v160Zm220 220h160v-160H400v160Zm0 220h160v-160H400v160ZM180-400h160v-160H180v160Zm440 0h160v-160H620v160ZM180-180h160v-160H180v160Zm440 0h160v-160H620v160Z\"/>\n",
       "  </svg>\n",
       "    </button>\n",
       "\n",
       "  <style>\n",
       "    .colab-df-container {\n",
       "      display:flex;\n",
       "      gap: 12px;\n",
       "    }\n",
       "\n",
       "    .colab-df-convert {\n",
       "      background-color: #E8F0FE;\n",
       "      border: none;\n",
       "      border-radius: 50%;\n",
       "      cursor: pointer;\n",
       "      display: none;\n",
       "      fill: #1967D2;\n",
       "      height: 32px;\n",
       "      padding: 0 0 0 0;\n",
       "      width: 32px;\n",
       "    }\n",
       "\n",
       "    .colab-df-convert:hover {\n",
       "      background-color: #E2EBFA;\n",
       "      box-shadow: 0px 1px 2px rgba(60, 64, 67, 0.3), 0px 1px 3px 1px rgba(60, 64, 67, 0.15);\n",
       "      fill: #174EA6;\n",
       "    }\n",
       "\n",
       "    .colab-df-buttons div {\n",
       "      margin-bottom: 4px;\n",
       "    }\n",
       "\n",
       "    [theme=dark] .colab-df-convert {\n",
       "      background-color: #3B4455;\n",
       "      fill: #D2E3FC;\n",
       "    }\n",
       "\n",
       "    [theme=dark] .colab-df-convert:hover {\n",
       "      background-color: #434B5C;\n",
       "      box-shadow: 0px 1px 3px 1px rgba(0, 0, 0, 0.15);\n",
       "      filter: drop-shadow(0px 1px 2px rgba(0, 0, 0, 0.3));\n",
       "      fill: #FFFFFF;\n",
       "    }\n",
       "  </style>\n",
       "\n",
       "    <script>\n",
       "      const buttonEl =\n",
       "        document.querySelector('#df-a62b4bc6-eb3d-4721-9a0d-ec3f88c745a8 button.colab-df-convert');\n",
       "      buttonEl.style.display =\n",
       "        google.colab.kernel.accessAllowed ? 'block' : 'none';\n",
       "\n",
       "      async function convertToInteractive(key) {\n",
       "        const element = document.querySelector('#df-a62b4bc6-eb3d-4721-9a0d-ec3f88c745a8');\n",
       "        const dataTable =\n",
       "          await google.colab.kernel.invokeFunction('convertToInteractive',\n",
       "                                                    [key], {});\n",
       "        if (!dataTable) return;\n",
       "\n",
       "        const docLinkHtml = 'Like what you see? Visit the ' +\n",
       "          '<a target=\"_blank\" href=https://colab.research.google.com/notebooks/data_table.ipynb>data table notebook</a>'\n",
       "          + ' to learn more about interactive tables.';\n",
       "        element.innerHTML = '';\n",
       "        dataTable['output_type'] = 'display_data';\n",
       "        await google.colab.output.renderOutput(dataTable, element);\n",
       "        const docLink = document.createElement('div');\n",
       "        docLink.innerHTML = docLinkHtml;\n",
       "        element.appendChild(docLink);\n",
       "      }\n",
       "    </script>\n",
       "  </div>\n",
       "\n",
       "\n",
       "    <div id=\"df-7e249620-c9b6-48e7-b75a-6b8d4e6853d3\">\n",
       "      <button class=\"colab-df-quickchart\" onclick=\"quickchart('df-7e249620-c9b6-48e7-b75a-6b8d4e6853d3')\"\n",
       "                title=\"Suggest charts\"\n",
       "                style=\"display:none;\">\n",
       "\n",
       "<svg xmlns=\"http://www.w3.org/2000/svg\" height=\"24px\"viewBox=\"0 0 24 24\"\n",
       "     width=\"24px\">\n",
       "    <g>\n",
       "        <path d=\"M19 3H5c-1.1 0-2 .9-2 2v14c0 1.1.9 2 2 2h14c1.1 0 2-.9 2-2V5c0-1.1-.9-2-2-2zM9 17H7v-7h2v7zm4 0h-2V7h2v10zm4 0h-2v-4h2v4z\"/>\n",
       "    </g>\n",
       "</svg>\n",
       "      </button>\n",
       "\n",
       "<style>\n",
       "  .colab-df-quickchart {\n",
       "      --bg-color: #E8F0FE;\n",
       "      --fill-color: #1967D2;\n",
       "      --hover-bg-color: #E2EBFA;\n",
       "      --hover-fill-color: #174EA6;\n",
       "      --disabled-fill-color: #AAA;\n",
       "      --disabled-bg-color: #DDD;\n",
       "  }\n",
       "\n",
       "  [theme=dark] .colab-df-quickchart {\n",
       "      --bg-color: #3B4455;\n",
       "      --fill-color: #D2E3FC;\n",
       "      --hover-bg-color: #434B5C;\n",
       "      --hover-fill-color: #FFFFFF;\n",
       "      --disabled-bg-color: #3B4455;\n",
       "      --disabled-fill-color: #666;\n",
       "  }\n",
       "\n",
       "  .colab-df-quickchart {\n",
       "    background-color: var(--bg-color);\n",
       "    border: none;\n",
       "    border-radius: 50%;\n",
       "    cursor: pointer;\n",
       "    display: none;\n",
       "    fill: var(--fill-color);\n",
       "    height: 32px;\n",
       "    padding: 0;\n",
       "    width: 32px;\n",
       "  }\n",
       "\n",
       "  .colab-df-quickchart:hover {\n",
       "    background-color: var(--hover-bg-color);\n",
       "    box-shadow: 0 1px 2px rgba(60, 64, 67, 0.3), 0 1px 3px 1px rgba(60, 64, 67, 0.15);\n",
       "    fill: var(--button-hover-fill-color);\n",
       "  }\n",
       "\n",
       "  .colab-df-quickchart-complete:disabled,\n",
       "  .colab-df-quickchart-complete:disabled:hover {\n",
       "    background-color: var(--disabled-bg-color);\n",
       "    fill: var(--disabled-fill-color);\n",
       "    box-shadow: none;\n",
       "  }\n",
       "\n",
       "  .colab-df-spinner {\n",
       "    border: 2px solid var(--fill-color);\n",
       "    border-color: transparent;\n",
       "    border-bottom-color: var(--fill-color);\n",
       "    animation:\n",
       "      spin 1s steps(1) infinite;\n",
       "  }\n",
       "\n",
       "  @keyframes spin {\n",
       "    0% {\n",
       "      border-color: transparent;\n",
       "      border-bottom-color: var(--fill-color);\n",
       "      border-left-color: var(--fill-color);\n",
       "    }\n",
       "    20% {\n",
       "      border-color: transparent;\n",
       "      border-left-color: var(--fill-color);\n",
       "      border-top-color: var(--fill-color);\n",
       "    }\n",
       "    30% {\n",
       "      border-color: transparent;\n",
       "      border-left-color: var(--fill-color);\n",
       "      border-top-color: var(--fill-color);\n",
       "      border-right-color: var(--fill-color);\n",
       "    }\n",
       "    40% {\n",
       "      border-color: transparent;\n",
       "      border-right-color: var(--fill-color);\n",
       "      border-top-color: var(--fill-color);\n",
       "    }\n",
       "    60% {\n",
       "      border-color: transparent;\n",
       "      border-right-color: var(--fill-color);\n",
       "    }\n",
       "    80% {\n",
       "      border-color: transparent;\n",
       "      border-right-color: var(--fill-color);\n",
       "      border-bottom-color: var(--fill-color);\n",
       "    }\n",
       "    90% {\n",
       "      border-color: transparent;\n",
       "      border-bottom-color: var(--fill-color);\n",
       "    }\n",
       "  }\n",
       "</style>\n",
       "\n",
       "      <script>\n",
       "        async function quickchart(key) {\n",
       "          const quickchartButtonEl =\n",
       "            document.querySelector('#' + key + ' button');\n",
       "          quickchartButtonEl.disabled = true;  // To prevent multiple clicks.\n",
       "          quickchartButtonEl.classList.add('colab-df-spinner');\n",
       "          try {\n",
       "            const charts = await google.colab.kernel.invokeFunction(\n",
       "                'suggestCharts', [key], {});\n",
       "          } catch (error) {\n",
       "            console.error('Error during call to suggestCharts:', error);\n",
       "          }\n",
       "          quickchartButtonEl.classList.remove('colab-df-spinner');\n",
       "          quickchartButtonEl.classList.add('colab-df-quickchart-complete');\n",
       "        }\n",
       "        (() => {\n",
       "          let quickchartButtonEl =\n",
       "            document.querySelector('#df-7e249620-c9b6-48e7-b75a-6b8d4e6853d3 button');\n",
       "          quickchartButtonEl.style.display =\n",
       "            google.colab.kernel.accessAllowed ? 'block' : 'none';\n",
       "        })();\n",
       "      </script>\n",
       "    </div>\n",
       "\n",
       "  <div id=\"id_259dbdce-1a0a-4438-af9a-1d44ffc82705\">\n",
       "    <style>\n",
       "      .colab-df-generate {\n",
       "        background-color: #E8F0FE;\n",
       "        border: none;\n",
       "        border-radius: 50%;\n",
       "        cursor: pointer;\n",
       "        display: none;\n",
       "        fill: #1967D2;\n",
       "        height: 32px;\n",
       "        padding: 0 0 0 0;\n",
       "        width: 32px;\n",
       "      }\n",
       "\n",
       "      .colab-df-generate:hover {\n",
       "        background-color: #E2EBFA;\n",
       "        box-shadow: 0px 1px 2px rgba(60, 64, 67, 0.3), 0px 1px 3px 1px rgba(60, 64, 67, 0.15);\n",
       "        fill: #174EA6;\n",
       "      }\n",
       "\n",
       "      [theme=dark] .colab-df-generate {\n",
       "        background-color: #3B4455;\n",
       "        fill: #D2E3FC;\n",
       "      }\n",
       "\n",
       "      [theme=dark] .colab-df-generate:hover {\n",
       "        background-color: #434B5C;\n",
       "        box-shadow: 0px 1px 3px 1px rgba(0, 0, 0, 0.15);\n",
       "        filter: drop-shadow(0px 1px 2px rgba(0, 0, 0, 0.3));\n",
       "        fill: #FFFFFF;\n",
       "      }\n",
       "    </style>\n",
       "    <button class=\"colab-df-generate\" onclick=\"generateWithVariable('rec1')\"\n",
       "            title=\"Generate code using this dataframe.\"\n",
       "            style=\"display:none;\">\n",
       "\n",
       "  <svg xmlns=\"http://www.w3.org/2000/svg\" height=\"24px\"viewBox=\"0 0 24 24\"\n",
       "       width=\"24px\">\n",
       "    <path d=\"M7,19H8.4L18.45,9,17,7.55,7,17.6ZM5,21V16.75L18.45,3.32a2,2,0,0,1,2.83,0l1.4,1.43a1.91,1.91,0,0,1,.58,1.4,1.91,1.91,0,0,1-.58,1.4L9.25,21ZM18.45,9,17,7.55Zm-12,3A5.31,5.31,0,0,0,4.9,8.1,5.31,5.31,0,0,0,1,6.5,5.31,5.31,0,0,0,4.9,4.9,5.31,5.31,0,0,0,6.5,1,5.31,5.31,0,0,0,8.1,4.9,5.31,5.31,0,0,0,12,6.5,5.46,5.46,0,0,0,6.5,12Z\"/>\n",
       "  </svg>\n",
       "    </button>\n",
       "    <script>\n",
       "      (() => {\n",
       "      const buttonEl =\n",
       "        document.querySelector('#id_259dbdce-1a0a-4438-af9a-1d44ffc82705 button.colab-df-generate');\n",
       "      buttonEl.style.display =\n",
       "        google.colab.kernel.accessAllowed ? 'block' : 'none';\n",
       "\n",
       "      buttonEl.onclick = () => {\n",
       "        google.colab.notebook.generateWithVariable('rec1');\n",
       "      }\n",
       "      })();\n",
       "    </script>\n",
       "  </div>\n",
       "\n",
       "    </div>\n",
       "  </div>\n"
      ],
      "text/plain": [
       "                                           job_title  similarity_score\n",
       "0                                   Research Analyst          0.421115\n",
       "1  Senior Analyst / Analyst (Bangkok Based, reloc...          0.420373\n",
       "2              Senior Machine Learning Engineer - AI          0.402583\n",
       "3  Consultant, Business Insights (Small CL Automa...          0.369142\n",
       "4  Supply Analytics Senior Manager (Bangkok-based...          0.366166"
      ]
     },
     "execution_count": 7,
     "metadata": {},
     "output_type": "execute_result"
    }
   ],
   "source": [
    "rec1\n",
    "# rec2"
   ]
  },
  {
   "cell_type": "code",
   "execution_count": 19,
   "metadata": {
    "colab": {
     "base_uri": "https://localhost:8080/"
    },
    "id": "0xfpQ1bmW0VZ",
    "outputId": "06e10590-55a7-413b-9502-635bfa30985e"
   },
   "outputs": [
    {
     "name": "stdout",
     "output_type": "stream",
     "text": [
      "                   job_title  similarity\n",
      "0               Data Science    0.906729\n",
      "1  Machine Learning Engineer    0.896980\n"
     ]
    }
   ],
   "source": [
    "import re\n",
    "import numpy as np\n",
    "import pandas as pd\n",
    "from sentence_transformers import SentenceTransformer\n",
    "from sklearn.neighbors import NearestNeighbors\n",
    "# 2) Preprocess skills into lists; handle missing\n",
    "df['skills_list'] = (\n",
    "    df['job_skills']\n",
    "      .fillna('')                                         # no NaN strings :contentReference[oaicite:0]{index=0}\n",
    "      .apply(lambda s: [sk.strip() for sk in s.split(',') if sk.strip()])\n",
    ")\n",
    "\n",
    "# 3) Normalize titles to collapse variants (e.g. “Senior Data Scientist” → “Data Scientist”)\n",
    "def normalize_title(t):\n",
    "    t = t.lower()\n",
    "    # remove common seniority/fellow/lead tokens :contentReference[oaicite:1]{index=1}\n",
    "    t = re.sub(r'\\b(senior|jr|ii|iii|lead|principal|technical|fellow)\\b', '', t)\n",
    "    t = re.sub(r'[^a-z0-9 ]', ' ', t)\n",
    "    return re.sub(r'\\s+', ' ', t).strip().title()\n",
    "\n",
    "df['norm_title'] = df['job_title'].apply(normalize_title)\n",
    "\n",
    "# 4) Initialize SBERT on GPU\n",
    "model = SentenceTransformer('all-MiniLM-L6-v2', device='cuda')  # 384‑d embeddings :contentReference[oaicite:2]{index=2}\n",
    "\n",
    "# 5) Embed per-skill and average for each job, handling empty lists\n",
    "dim = model.get_sentence_embedding_dimension()                    # should be 384 :contentReference[oaicite:3]{index=3}\n",
    "job_embs = []\n",
    "for skills in df['skills_list']:\n",
    "    if skills:\n",
    "        # embed each skill separately to avoid truncation :contentReference[oaicite:4]{index=4}\n",
    "        embs = model.encode(skills, convert_to_numpy=True, show_progress_bar=False)\n",
    "        mean_emb = np.mean(embs, axis=0)\n",
    "    else:\n",
    "        # fallback zero‑vector if no skills\n",
    "        mean_emb = np.zeros(dim)\n",
    "    job_embs.append(mean_emb)\n",
    "job_embeddings = np.vstack(job_embs)                             # now shape (n_jobs, 384) :contentReference[oaicite:5]{index=5}\n",
    "\n",
    "# 6) Group by normalized title: average embeddings across variants\n",
    "grouped = df.groupby('norm_title').indices\n",
    "titles, embs = [], []\n",
    "for title, idxs in grouped.items():\n",
    "    titles.append(title)\n",
    "    embs.append(job_embeddings[idxs].mean(axis=0))\n",
    "emb_matrix = np.vstack(embs)                                     # (n_unique_titles, 384)\n",
    "\n",
    "# 7) Fit NearestNeighbors on grouped embeddings (cosine distance)\n",
    "knn = NearestNeighbors(n_neighbors=5, metric='cosine', algorithm='brute')  # fast for ~200 groups :contentReference[oaicite:6]{index=6}\n",
    "knn.fit(emb_matrix)\n",
    "\n",
    "# 8) Recommendation function\n",
    "def recommend_jobs(skills, top_n=2):\n",
    "    # embed & average query skills :contentReference[oaicite:7]{index=7}\n",
    "    q_embs = model.encode(skills, convert_to_numpy=True)\n",
    "    q_vec = np.mean(q_embs, axis=0, keepdims=True)\n",
    "    dists, idxs = knn.kneighbors(q_vec, n_neighbors=top_n)\n",
    "    recs = pd.DataFrame({\n",
    "        'job_title': [titles[i] for i in idxs[0]],\n",
    "        'similarity': 1 - dists[0]\n",
    "    })\n",
    "    return recs\n",
    "\n",
    "# 9) Test on your 33‑skill set\n",
    "sample_skills = [\n",
    "    'NLP','Java','GitHub','MatplotLib','AWS','Time Series','TensorFlow',\n",
    "    'Data Structures','Machine Learning','Deep Learning','CUDA','NumPy',\n",
    "    'Data Analysis','MySQL','SQL','Algorithms','Pandas','MongoDB','Python',\n",
    "    'Git','Mentorship','Teamwork','GraphQL','Excel','Shapash','Keras',\n",
    "    'Analytical','PyTorch','Scikit-learn','LLMs','Versatility','C++','Power Bi'\n",
    "]\n",
    "print(recommend_jobs(sample_skills))\n"
   ]
  },
  {
   "cell_type": "code",
   "execution_count": 22,
   "metadata": {
    "colab": {
     "base_uri": "https://localhost:8080/"
    },
    "id": "3KmkIJYSdsN-",
    "outputId": "4b987125-f2bf-450b-8ec8-20b6804799a0"
   },
   "outputs": [
    {
     "name": "stdout",
     "output_type": "stream",
     "text": [
      "                                           job_title  similarity\n",
      "0  Sr Developer Analyst C Java Digital Documentation    0.831221\n",
      "1              Gis Sr Business Application Developer    0.809661\n"
     ]
    }
   ],
   "source": [
    "print(recommend_jobs(['Waterfall', 'Agile - RUP', 'Scrum',\n",
    "'Windows 2008/XP/2007/2003'\n",
    "'MS Office suite', 'SharePoint & Project', 'Rational Rose', 'Requisite Pro',\n",
    "'Test Director', 'Quality Center', 'HP Quality Center',\n",
    "'Microsoft SQL Server', 'Oracle', 'MS Access',\n",
    "'.NET Framework', 'ASP.NET'\n",
    "]))"
   ]
  },
  {
   "cell_type": "code",
   "execution_count": 23,
   "metadata": {
    "id": "Uw2Ww9Snfp9h"
   },
   "outputs": [],
   "source": [
    "# after you’ve initialized and (optionally) warmed up the model…\n",
    "model.save('models/sbert_all-MiniLM-L6-v2')\n"
   ]
  },
  {
   "cell_type": "code",
   "execution_count": 24,
   "metadata": {
    "colab": {
     "base_uri": "https://localhost:8080/"
    },
    "id": "2uhsnWzOpnPr",
    "outputId": "97f2a87d-beba-4926-d714-ffd268bb632d"
   },
   "outputs": [
    {
     "data": {
      "text/plain": [
       "['models/knn_titles.joblib']"
      ]
     },
     "execution_count": 24,
     "metadata": {},
     "output_type": "execute_result"
    }
   ],
   "source": [
    "import joblib\n",
    "\n",
    "# Save NearestNeighbors\n",
    "joblib.dump(knn, 'models/knn_cosine.joblib')\n",
    "\n",
    "# Save the titles list so we know which index corresponds to which title\n",
    "joblib.dump(titles, 'models/knn_titles.joblib')\n"
   ]
  },
  {
   "cell_type": "code",
   "execution_count": 25,
   "metadata": {
    "colab": {
     "base_uri": "https://localhost:8080/"
    },
    "id": "GuGzK4TipzVP",
    "outputId": "5a52a48d-5f51-49bc-da40-f35c705ed566"
   },
   "outputs": [
    {
     "name": "stdout",
     "output_type": "stream",
     "text": [
      "  adding: models/ (stored 0%)\n",
      "  adding: models/sbert_all-MiniLM-L6-v2/ (stored 0%)\n",
      "  adding: models/sbert_all-MiniLM-L6-v2/1_Pooling/ (stored 0%)\n",
      "  adding: models/sbert_all-MiniLM-L6-v2/1_Pooling/config.json (deflated 57%)\n",
      "  adding: models/sbert_all-MiniLM-L6-v2/2_Normalize/ (stored 0%)\n",
      "  adding: models/sbert_all-MiniLM-L6-v2/config.json (deflated 48%)\n",
      "  adding: models/sbert_all-MiniLM-L6-v2/config_sentence_transformers.json (deflated 34%)\n",
      "  adding: models/sbert_all-MiniLM-L6-v2/tokenizer_config.json (deflated 73%)\n",
      "  adding: models/sbert_all-MiniLM-L6-v2/model.safetensors (deflated 9%)\n",
      "  adding: models/sbert_all-MiniLM-L6-v2/README.md (deflated 64%)\n",
      "  adding: models/sbert_all-MiniLM-L6-v2/vocab.txt (deflated 53%)\n",
      "  adding: models/sbert_all-MiniLM-L6-v2/sentence_bert_config.json (deflated 4%)\n",
      "  adding: models/sbert_all-MiniLM-L6-v2/modules.json (deflated 62%)\n",
      "  adding: models/sbert_all-MiniLM-L6-v2/special_tokens_map.json (deflated 80%)\n",
      "  adding: models/sbert_all-MiniLM-L6-v2/tokenizer.json (deflated 71%)\n",
      "  adding: models/knn_cosine.joblib (deflated 45%)\n",
      "  adding: models/knn_titles.joblib (deflated 68%)\n"
     ]
    }
   ],
   "source": [
    "!zip -r models.zip models/"
   ]
  },
  {
   "cell_type": "code",
   "execution_count": 26,
   "metadata": {
    "colab": {
     "base_uri": "https://localhost:8080/",
     "height": 17
    },
    "id": "shp0m9KtqNFF",
    "outputId": "0ecf9cb5-fbf8-439c-cff2-7c461a4ad923"
   },
   "outputs": [
    {
     "data": {
      "application/javascript": [
       "\n",
       "    async function download(id, filename, size) {\n",
       "      if (!google.colab.kernel.accessAllowed) {\n",
       "        return;\n",
       "      }\n",
       "      const div = document.createElement('div');\n",
       "      const label = document.createElement('label');\n",
       "      label.textContent = `Downloading \"${filename}\": `;\n",
       "      div.appendChild(label);\n",
       "      const progress = document.createElement('progress');\n",
       "      progress.max = size;\n",
       "      div.appendChild(progress);\n",
       "      document.body.appendChild(div);\n",
       "\n",
       "      const buffers = [];\n",
       "      let downloaded = 0;\n",
       "\n",
       "      const channel = await google.colab.kernel.comms.open(id);\n",
       "      // Send a message to notify the kernel that we're ready.\n",
       "      channel.send({})\n",
       "\n",
       "      for await (const message of channel.messages) {\n",
       "        // Send a message to notify the kernel that we're ready.\n",
       "        channel.send({})\n",
       "        if (message.buffers) {\n",
       "          for (const buffer of message.buffers) {\n",
       "            buffers.push(buffer);\n",
       "            downloaded += buffer.byteLength;\n",
       "            progress.value = downloaded;\n",
       "          }\n",
       "        }\n",
       "      }\n",
       "      const blob = new Blob(buffers, {type: 'application/binary'});\n",
       "      const a = document.createElement('a');\n",
       "      a.href = window.URL.createObjectURL(blob);\n",
       "      a.download = filename;\n",
       "      div.appendChild(a);\n",
       "      a.click();\n",
       "      div.remove();\n",
       "    }\n",
       "  "
      ],
      "text/plain": [
       "<IPython.core.display.Javascript object>"
      ]
     },
     "metadata": {},
     "output_type": "display_data"
    },
    {
     "data": {
      "application/javascript": [
       "download(\"download_4298b59f-481d-412c-aeaf-358f1063d9db\", \"models.zip\", 96733648)"
      ],
      "text/plain": [
       "<IPython.core.display.Javascript object>"
      ]
     },
     "metadata": {},
     "output_type": "display_data"
    }
   ],
   "source": [
    "from google.colab import files\n",
    "files.download('models.zip')"
   ]
  },
  {
   "cell_type": "code",
   "execution_count": null,
   "metadata": {
    "id": "jDXQ8oFXqYLF"
   },
   "outputs": [],
   "source": []
  }
 ],
 "metadata": {
  "accelerator": "GPU",
  "colab": {
   "gpuType": "T4",
   "provenance": []
  },
  "kernelspec": {
   "display_name": "Python 3 (ipykernel)",
   "language": "python",
   "name": "python3"
  },
  "language_info": {
   "codemirror_mode": {
    "name": "ipython",
    "version": 3
   },
   "file_extension": ".py",
   "mimetype": "text/x-python",
   "name": "python",
   "nbconvert_exporter": "python",
   "pygments_lexer": "ipython3",
   "version": "3.12.7"
  }
 },
 "nbformat": 4,
 "nbformat_minor": 4
}
